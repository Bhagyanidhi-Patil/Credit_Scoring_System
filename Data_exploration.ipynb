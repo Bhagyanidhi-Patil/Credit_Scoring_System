import numpy as np
import matplotlib.pyplot as plt
import pandas as pd
import itertools
from sklearn.metrics import confusion_matrix
df = pd.read_csv(r"C:\Users\Desktop\hmeq.csv")
df_i = pd.read_csv(r"C:\Users\Desktop\hmeq.csv")                 #location of dataset in your PC
df.head()                                                        #returns first 5 rows of dataset

df.shape     #returns tuple which contain no of rows n col

df.info()            #returns summary of dataframe

df.columns

print(df["BAD"].value_counts())
df["BAD"].value_counts().plot("barh")                        #to plot graph

print(df["REASON"].value_counts())

print(df["JOB"].value_counts())

#Plotting histogram for various columns

f["LOAN"].plot.hist(bins = 20,figsize=(15,7.5))          #no of histogram bins 

df["DEBTINC"].plot.hist(bins = 20,figsize=(15,5))

df["CLAGE"].plot.hist(bins = 20,figsize=(15,7.5))

df["CLNO"].plot.hist(bins = 20,figsize=(15,5))

df["VALUE"].plot.hist(bins = 80,figsize=(15,7.5))

df["MORTDUE"].plot.hist(bins = 40,figsize=(15,7.5))


df["YOJ"].plot.hist(bins = 40,figsize=(15,7.5))


df["DEROG"].value_counts()     #reurns object containg count of unique values

df["DELINQ"].value_counts()

df["NINQ"].value_counts()

#To remove/fill the  undefined values from dataset we use fillna function ....
df.isnull().sum()     #shows number of undefined value in dataset.

f["REASON"].fillna(value = "DebtCon",inplace = True)   #fillna fills out missing values in the given series object
df["JOB"].fillna(value = "Other",inplace = True)
df["DEROG"].fillna(value=0,inplace=True)
df["DELINQ"].fillna(value=0,inplace=True)
df.fillna(value=df.mean(),inplace=True)

df.isnull().sum()  #now all undefined values will be filled by mean or median value

df.head()

